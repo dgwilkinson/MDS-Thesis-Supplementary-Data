{
 "cells": [
  {
   "cell_type": "code",
   "execution_count": 3,
   "id": "eb7f9f34",
   "metadata": {},
   "outputs": [
    {
     "name": "stdout",
     "output_type": "stream",
     "text": [
      "128\n",
      "None\n"
     ]
    }
   ],
   "source": [
    "import torch, os\n",
    "print(torch.get_num_threads())\n",
    "print(os.environ.get(\"OMP_NUM_THREADS\"))"
   ]
  }
 ],
 "metadata": {
  "kernelspec": {
   "display_name": "Python 3 (ipykernel)",
   "language": "python",
   "name": "python3"
  },
  "language_info": {
   "codemirror_mode": {
    "name": "ipython",
    "version": 3
   },
   "file_extension": ".py",
   "mimetype": "text/x-python",
   "name": "python",
   "nbconvert_exporter": "python",
   "pygments_lexer": "ipython3",
   "version": "3.9.12"
  }
 },
 "nbformat": 4,
 "nbformat_minor": 5
}
