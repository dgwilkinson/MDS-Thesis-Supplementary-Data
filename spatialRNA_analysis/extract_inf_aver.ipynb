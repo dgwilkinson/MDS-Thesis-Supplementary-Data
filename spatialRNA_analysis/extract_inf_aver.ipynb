{
 "cells": [
  {
   "cell_type": "code",
   "execution_count": 15,
   "id": "a1a2d717",
   "metadata": {},
   "outputs": [],
   "source": [
    "import scanpy as sc, anndata, pandas as pd, numpy as np\n",
    "import os, sys, re"
   ]
  },
  {
   "cell_type": "code",
   "execution_count": null,
   "id": "2f6f4826",
   "metadata": {},
   "outputs": [],
   "source": [
    "# Read in Command line arguments \n",
    "# Format: results_path, sample_id, out_path\n",
    "results_path, sample_id, out_path = sys.argv[1:]"
   ]
  },
  {
   "cell_type": "code",
   "execution_count": 3,
   "id": "e2729833",
   "metadata": {},
   "outputs": [],
   "source": [
    "results = os.path.expanduser(results_path + sample_id + \"_NB_results.h5ad\")"
   ]
  },
  {
   "cell_type": "code",
   "execution_count": 5,
   "id": "bf2b3f62",
   "metadata": {},
   "outputs": [],
   "source": [
    "# Read in NB results AnnData object\n",
    "rna_data = sc.read_h5ad(results)"
   ]
  },
  {
   "cell_type": "code",
   "execution_count": 23,
   "id": "6d01fa9b",
   "metadata": {},
   "outputs": [],
   "source": [
    "# Extract inferred feature averages across cell types \n",
    "metric_name = \"means_per_cluster_mu_fg\"\n",
    "cell_types = rna_data.uns[\"mod\"][\"factor_names\"]\n",
    "inf_aver = rna_data.varm[metric_name].copy()\n",
    "\n",
    "# Rename columns with cell type labels \n",
    "inf_aver.rename(columns = lambda name: re.sub(metric_name + \"_\",\n",
    "                                              \"\", name),\n",
    "               inplace = True)"
   ]
  },
  {
   "cell_type": "code",
   "execution_count": 31,
   "id": "58b981c6",
   "metadata": {
    "scrolled": true
   },
   "outputs": [
    {
     "name": "stdout",
     "output_type": "stream",
     "text": [
      "Cell Types Retained?: True\n"
     ]
    }
   ],
   "source": [
    "# Verify the retention of all cell types\n",
    "print(f\"All Cell Types Retained?: {inf_aver.columns.symmetric_difference(cell_types).empty}\")"
   ]
  },
  {
   "cell_type": "code",
   "execution_count": null,
   "id": "8ef0dd98",
   "metadata": {},
   "outputs": [],
   "source": [
    "# Write Results to csv for rapid loading in next step\n",
    "inf_aver.to_csv(out_path + sample_id + \"_inf_aver.csv\")"
   ]
  }
 ],
 "metadata": {
  "kernelspec": {
   "display_name": "Python 3 (ipykernel)",
   "language": "python",
   "name": "python3"
  },
  "language_info": {
   "codemirror_mode": {
    "name": "ipython",
    "version": 3
   },
   "file_extension": ".py",
   "mimetype": "text/x-python",
   "name": "python",
   "nbconvert_exporter": "python",
   "pygments_lexer": "ipython3",
   "version": "3.9.12"
  }
 },
 "nbformat": 4,
 "nbformat_minor": 5
}
